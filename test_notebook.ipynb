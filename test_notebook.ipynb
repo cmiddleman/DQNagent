{
 "cells": [
  {
   "cell_type": "code",
   "execution_count": 1,
   "id": "18dd87ca-4028-4cfd-b29c-9b668acf8d23",
   "metadata": {},
   "outputs": [],
   "source": [
    "import numpy as np \n",
    "import matplotlib.pyplot as plt \n",
    "import gym\n",
    "from statistics import mean, median\n",
    "from collections import Counter\n",
    "from env import TicTacToe"
   ]
  },
  {
   "cell_type": "code",
   "execution_count": 2,
   "id": "f2374572-60ef-49b2-83e9-58dbc0ad89f6",
   "metadata": {
    "tags": []
   },
   "outputs": [],
   "source": [
    "env = TicTacToe()"
   ]
  },
  {
   "cell_type": "code",
   "execution_count": 12,
   "id": "a589447d-3d98-4b4e-9fa1-31cb7f52fe0d",
   "metadata": {},
   "outputs": [
    {
     "name": "stdout",
     "output_type": "stream",
     "text": [
      "it is O's turn\n"
     ]
    },
    {
     "data": {
      "image/png": "[encoded data removed]",
      "text/plain": [
       "<Figure size 432x288 with 1 Axes>"
      ]
     },
     "metadata": {
      "needs_background": "light"
     },
     "output_type": "display_data"
    }
   ],
   "source": [
    "env.render()"
   ]
  },
  {
   "cell_type": "code",
   "execution_count": 13,
   "id": "68fe7b37-1c91-47f3-be68-287c9d8893fc",
   "metadata": {},
   "outputs": [
    {
     "name": "stdout",
     "output_type": "stream",
     "text": [
      "uh oh, illegal move, try again!\n"
     ]
    }
   ],
   "source": [
    "obs, reward, done, info = env.step(0)"
   ]
  },
  {
   "cell_type": "code",
   "execution_count": 11,
   "id": "34581615-f4e1-46d1-93d0-11f8877290b9",
   "metadata": {},
   "outputs": [
    {
     "name": "stdout",
     "output_type": "stream",
     "text": [
      "game over 1 wins\n"
     ]
    },
    {
     "data": {
      "text/plain": [
       "((array([[ 1.,  1.,  1.],\n",
       "         [ 0., -1., -1.],\n",
       "         [ 0.,  0.,  0.]]),\n",
       "  -1),\n",
       " 0,\n",
       " True,\n",
       " None)"
      ]
     },
     "execution_count": 11,
     "metadata": {},
     "output_type": "execute_result"
    }
   ],
   "source": [
    "env.step(0)"
   ]
  },
  {
   "cell_type": "code",
   "execution_count": 11,
   "id": "cacb85ad-5691-4de9-9dd5-b38267f2bf02",
   "metadata": {},
   "outputs": [
    {
     "name": "stdout",
     "output_type": "stream",
     "text": [
      "it is O's turn\n",
      "X | O | O\n",
      "-----------\n",
      "X |   |  \n",
      "-----------\n",
      "X |   |  \n"
     ]
    }
   ],
   "source": [
    "env.render()"
   ]
  },
  {
   "cell_type": "code",
   "execution_count": 15,
   "id": "11f30016-1438-4054-b2ca-c4994ee9d236",
   "metadata": {},
   "outputs": [
    {
     "data": {
      "text/plain": [
       "array([[ 1, -1,  1],\n",
       "       [ 1, -1,  1],\n",
       "       [ 0,  0,  0]])"
      ]
     },
     "execution_count": 15,
     "metadata": {},
     "output_type": "execute_result"
    }
   ],
   "source": [
    "board"
   ]
  },
  {
   "cell_type": "code",
   "execution_count": 11,
   "id": "9cf8eada-d9e0-4791-ac29-7799e3ae3e3c",
   "metadata": {},
   "outputs": [],
   "source": [
    "new_board = board.copy()"
   ]
  },
  {
   "cell_type": "code",
   "execution_count": 14,
   "id": "0551940d-d75b-4a34-9402-021483aca876",
   "metadata": {},
   "outputs": [
    {
     "data": {
      "text/plain": [
       "array([[ 1, -1,  1],\n",
       "       [ 1, 69,  1],\n",
       "       [ 0,  0,  0]])"
      ]
     },
     "execution_count": 14,
     "metadata": {},
     "output_type": "execute_result"
    }
   ],
   "source": [
    "new_board[1,1] = 69\n",
    "new_board"
   ]
  },
  {
   "cell_type": "code",
   "execution_count": 9,
   "id": "47a6b6a4-a70c-4267-b58d-9c8f328514eb",
   "metadata": {},
   "outputs": [],
   "source": [
    "board = np.random.randint(-1, 2, (3,3))"
   ]
  },
  {
   "cell_type": "code",
   "execution_count": 4,
   "id": "c9b44d90-bec2-4fb5-8dff-5a9c993167af",
   "metadata": {},
   "outputs": [
    {
     "data": {
      "text/plain": [
       "array([[-1,  1, -1],\n",
       "       [ 0, -1, -1],\n",
       "       [ 1,  1,  0]])"
      ]
     },
     "execution_count": 4,
     "metadata": {},
     "output_type": "execute_result"
    }
   ],
   "source": [
    "board.copy()"
   ]
  },
  {
   "cell_type": "code",
   "execution_count": 11,
   "id": "c12d83a1-7460-4aa7-84db-28f5ff359850",
   "metadata": {},
   "outputs": [
    {
     "data": {
      "text/plain": [
       "False"
      ]
     },
     "execution_count": 11,
     "metadata": {},
     "output_type": "execute_result"
    }
   ],
   "source": [
    "(board == 1).all(axis=0).any()"
   ]
  },
  {
   "cell_type": "code",
   "execution_count": 9,
   "id": "c09bbf77-4ad7-4a53-844f-513918abdcd7",
   "metadata": {},
   "outputs": [
    {
     "data": {
      "text/plain": [
       "array([[ 1,  0,  0],\n",
       "       [ 1,  1,  1],\n",
       "       [ 0, -1,  0]])"
      ]
     },
     "execution_count": 9,
     "metadata": {},
     "output_type": "execute_result"
    }
   ],
   "source": [
    "board"
   ]
  },
  {
   "cell_type": "code",
   "execution_count": 19,
   "id": "14c55f35-c142-4e97-b868-5bdece99bd32",
   "metadata": {},
   "outputs": [
    {
     "data": {
      "text/plain": [
       "array([69, 69,  9])"
      ]
     },
     "execution_count": 19,
     "metadata": {},
     "output_type": "execute_result"
    }
   ],
   "source": [
    "board[1,1] = 69\n",
    "board[np.arange(3), np.arange(3)[::-1]]"
   ]
  },
  {
   "cell_type": "code",
   "execution_count": 20,
   "id": "7242cc4a-e278-4d0d-b76c-0f19abd6c2c8",
   "metadata": {},
   "outputs": [
    {
     "data": {
      "text/plain": [
       "array([[ 1,  0, 69],\n",
       "       [ 1, 69,  1],\n",
       "       [ 9, -1,  9]])"
      ]
     },
     "execution_count": 20,
     "metadata": {},
     "output_type": "execute_result"
    }
   ],
   "source": [
    "board"
   ]
  },
  {
   "cell_type": "code",
   "execution_count": 3,
   "id": "a4b0589d-7a74-4fc4-a9e9-970717a61460",
   "metadata": {},
   "outputs": [
    {
     "data": {
      "text/plain": [
       "array([[0, 1, 2],\n",
       "       [3, 4, 5],\n",
       "       [6, 7, 8]])"
      ]
     },
     "execution_count": 3,
     "metadata": {},
     "output_type": "execute_result"
    }
   ],
   "source": [
    "import numpy as np\n",
    "np.arange(9).reshape(3,3)"
   ]
  },
  {
   "cell_type": "code",
   "execution_count": 5,
   "id": "0206be90-e8c0-415a-8d37-2ecbfdddeccf",
   "metadata": {},
   "outputs": [],
   "source": [
    "import gym_tictactoe"
   ]
  },
  {
   "cell_type": "code",
   "execution_count": 39,
   "id": "e2f7c54e-9da9-4b23-9013-e1aded49fbc1",
   "metadata": {},
   "outputs": [],
   "source": [
    "from itertools import product"
   ]
  },
  {
   "cell_type": "code",
   "execution_count": 38,
   "id": "14cdb6cf-d73a-4679-876e-2a7977ac7b0b",
   "metadata": {},
   "outputs": [],
   "source": [
    "mark_dict = {\n",
    "  1 : 'X',\n",
    "  -1 : 'O',\n",
    "  0: ' '\n",
    "}\n",
    "board = np.random.randint(-1, 2, (3,3))"
   ]
  },
  {
   "cell_type": "code",
   "execution_count": 51,
   "id": "075ca957-8646-4638-bfd5-18319c423753",
   "metadata": {},
   "outputs": [
    {
     "data": {
      "image/png": "[encoded data removed]",
      "text/plain": [
       "<Figure size 432x288 with 1 Axes>"
      ]
     },
     "metadata": {
      "needs_background": "light"
     },
     "output_type": "display_data"
    }
   ],
   "source": [
    "fig, ax = plt.subplots()\n",
    "ax.hlines(0, 0, 1)\n",
    "for row, col in product(np.arange(3), np.arange(3)):\n",
    "    ax.text(1/8 + row*3/8, 7/8 - col*3/8, 'a', size = 72, ha = 'center', va = 'center')"
   ]
  },
  {
   "cell_type": "code",
   "execution_count": 41,
   "id": "78cfa003-6c8a-4a92-8b7c-d4a8c8690396",
   "metadata": {},
   "outputs": [
    {
     "data": {
      "text/plain": [
       "Text(0.125, 0.875, 'a')"
      ]
     },
     "execution_count": 41,
     "metadata": {},
     "output_type": "execute_result"
    },
    {
     "data": {
      "image/png": "[encoded data removed]",
      "text/plain": [
       "<Figure size 432x288 with 1 Axes>"
      ]
     },
     "metadata": {
      "needs_background": "light"
     },
     "output_type": "display_data"
    }
   ],
   "source": [
    "plt.text(1/8, 7/8, 'a', size = 69, ha = 'center', va = 'center')"
   ]
  },
  {
   "cell_type": "code",
   "execution_count": null,
   "id": "b63e8094-2642-4f54-b5a8-df389b38159f",
   "metadata": {},
   "outputs": [],
   "source": []
  }
 ],
 "metadata": {
  "kernelspec": {
   "display_name": "Python 3",
   "language": "python",
   "name": "python3"
  },
  "language_info": {
   "codemirror_mode": {
    "name": "ipython",
    "version": 3
   },
   "file_extension": ".py",
   "mimetype": "text/x-python",
   "name": "python",
   "nbconvert_exporter": "python",
   "pygments_lexer": "ipython3",
   "version": "3.8.8"
  }
 },
 "nbformat": 4,
 "nbformat_minor": 5
}
