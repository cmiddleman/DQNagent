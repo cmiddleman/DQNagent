{
 "cells": [
  {
   "cell_type": "code",
   "execution_count": 1,
   "id": "18dd87ca-4028-4cfd-b29c-9b668acf8d23",
   "metadata": {},
   "outputs": [],
   "source": [
    "import numpy as np \n",
    "import matplotlib.pyplot as plt \n",
    "import gym"
   ]
  },
  {
   "cell_type": "code",
   "execution_count": 3,
   "id": "f2374572-60ef-49b2-83e9-58dbc0ad89f6",
   "metadata": {},
   "outputs": [],
   "source": [
    "class SuperTicTacToe(gym.Env):\n",
    "\n",
    "    def __init__(self):\n",
    "        self.X = 1\n",
    "        self.O = -1\n",
    "        self.board = np.zeros((3,3,3,3))\n",
    "        "
   ]
  },
  {
   "cell_type": "code",
   "execution_count": null,
   "id": "34581615-f4e1-46d1-93d0-11f8877290b9",
   "metadata": {},
   "outputs": [],
   "source": []
  }
 ],
 "metadata": {
  "kernelspec": {
   "display_name": "Python 3",
   "language": "python",
   "name": "python3"
  },
  "language_info": {
   "codemirror_mode": {
    "name": "ipython",
    "version": 3
   },
   "file_extension": ".py",
   "mimetype": "text/x-python",
   "name": "python",
   "nbconvert_exporter": "python",
   "pygments_lexer": "ipython3",
   "version": "3.8.8"
  }
 },
 "nbformat": 4,
 "nbformat_minor": 5
}
